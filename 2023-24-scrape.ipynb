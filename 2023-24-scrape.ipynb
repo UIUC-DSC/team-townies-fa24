{
 "cells": [
  {
   "cell_type": "code",
   "execution_count": 2,
   "id": "dc2c6ce0-d22d-4da2-88b6-0791166c9d30",
   "metadata": {},
   "outputs": [],
   "source": [
    "import pandas as pd\n",
    "from bs4 import BeautifulSoup\n",
    "import requests "
   ]
  },
  {
   "cell_type": "code",
   "execution_count": 6,
   "id": "b39f935e-b437-4550-b768-c003de2c9614",
   "metadata": {},
   "outputs": [],
   "source": [
    "url = 'https://www.sports-reference.com/cbb/schools/illinois/men/2024.html'\n",
    "page = requests.get(url)\n",
    "soup = BeautifulSoup(page.text, 'html')"
   ]
  },
  {
   "cell_type": "code",
   "execution_count": null,
   "id": "40c3628d-f71f-47ad-8b17-64132a106fbc",
   "metadata": {},
   "outputs": [],
   "source": []
  }
 ],
 "metadata": {
  "kernelspec": {
   "display_name": "Python 3 (ipykernel)",
   "language": "python",
   "name": "python3"
  },
  "language_info": {
   "codemirror_mode": {
    "name": "ipython",
    "version": 3
   },
   "file_extension": ".py",
   "mimetype": "text/x-python",
   "name": "python",
   "nbconvert_exporter": "python",
   "pygments_lexer": "ipython3",
   "version": "3.11.7"
  }
 },
 "nbformat": 4,
 "nbformat_minor": 5
}
