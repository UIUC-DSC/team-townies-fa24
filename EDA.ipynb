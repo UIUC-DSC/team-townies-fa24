{
 "cells": [
  {
   "cell_type": "code",
   "execution_count": 4,
   "metadata": {},
   "outputs": [],
   "source": [
    "import pandas as pd \n",
    "import matplotlib.pyplot as plt \n",
    "import seaborn as sns; sns.set()\n",
    "\n",
    "pd.set_option('display.max_columns', None)"
   ]
  },
  {
   "cell_type": "code",
   "execution_count": 9,
   "metadata": {},
   "outputs": [],
   "source": [
    "gl_19_20 = pd.read_csv('Clean Datasets/Clean-19-20-Game-Log.csv')\n",
    "gl_20_21 = pd.read_csv('Clean Datasets/Clean-20-21-Game-Log.csv')\n",
    "gl_21_22 = pd.read_csv('Clean Datasets/Clean-21-22-Game-Log.csv')\n",
    "gl_22_23 = pd.read_csv('Clean Datasets/Clean-22-23-Game-log.csv')\n",
    "gl_23_24 = pd.read_csv('Clean Datasets/Clean-23-24-Game-Log.csv')\n",
    "\n",
    "team_opp_19_20 = pd.read_csv('Clean Datasets/Clean-19-20-PerGameTeamAndOpponentStats.csv')\n",
    "team_opp_20_21 = pd.read_csv('Clean Datasets/Clean-20-21-Team&Opponent-Per-Game.csv')\n",
    "team_opp_21_22 = pd.read_csv('Clean Datasets/Clean-21-22-Team&Opp-Per-Game.csv')\n",
    "team_opp_22_23 = pd.read_csv('Clean Datasets/Clean-22-23-Team&Opponents.csv')\n",
    "team_opp_23_24 = pd.read_csv('Clean Datasets/Clean-23-24-Team&Opp-Per-Game.csv')\n",
    "\n",
    "roster_19_20 = pd.read_csv('Clean Datasets/Clean-19-20-roster.csv')\n",
    "roster_20_21 = pd.read_csv('Clean Datasets/Clean-20-21-Roster.csv')\n",
    "roster_21_22 = pd.read_csv('Clean Datasets/Clean-21-22-Roster.csv')\n",
    "roster_22_23 = pd.read_csv('Clean Datasets/Clean-22-23-Roster.csv')\n",
    "roster_23_24 = pd.read_csv('Clean Datasets/Clean-23-24-Roster.csv')"
   ]
  },
  {
   "cell_type": "code",
   "execution_count": null,
   "metadata": {},
   "outputs": [],
   "source": []
  }
 ],
 "metadata": {
  "kernelspec": {
   "display_name": "Python 3",
   "language": "python",
   "name": "python3"
  },
  "language_info": {
   "codemirror_mode": {
    "name": "ipython",
    "version": 3
   },
   "file_extension": ".py",
   "mimetype": "text/x-python",
   "name": "python",
   "nbconvert_exporter": "python",
   "pygments_lexer": "ipython3",
   "version": "3.9.6"
  },
  "orig_nbformat": 4
 },
 "nbformat": 4,
 "nbformat_minor": 2
}
